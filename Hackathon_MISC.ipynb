{
  "cells": [
    {
      "cell_type": "code",
      "execution_count": null,
      "metadata": {
        "colab": {
          "base_uri": "https://localhost:8080/",
          "height": 17
        },
        "id": "IbZBLDvTpFMR",
        "outputId": "b47b668b-6d68-4112-ac01-8f869e310fa8"
      },
      "outputs": [
        {
          "data": {
            "application/javascript": [
              "\n",
              "    async function download(id, filename, size) {\n",
              "      if (!google.colab.kernel.accessAllowed) {\n",
              "        return;\n",
              "      }\n",
              "      const div = document.createElement('div');\n",
              "      const label = document.createElement('label');\n",
              "      label.textContent = `Downloading \"${filename}\": `;\n",
              "      div.appendChild(label);\n",
              "      const progress = document.createElement('progress');\n",
              "      progress.max = size;\n",
              "      div.appendChild(progress);\n",
              "      document.body.appendChild(div);\n",
              "\n",
              "      const buffers = [];\n",
              "      let downloaded = 0;\n",
              "\n",
              "      const channel = await google.colab.kernel.comms.open(id);\n",
              "      // Send a message to notify the kernel that we're ready.\n",
              "      channel.send({})\n",
              "\n",
              "      for await (const message of channel.messages) {\n",
              "        // Send a message to notify the kernel that we're ready.\n",
              "        channel.send({})\n",
              "        if (message.buffers) {\n",
              "          for (const buffer of message.buffers) {\n",
              "            buffers.push(buffer);\n",
              "            downloaded += buffer.byteLength;\n",
              "            progress.value = downloaded;\n",
              "          }\n",
              "        }\n",
              "      }\n",
              "      const blob = new Blob(buffers, {type: 'application/binary'});\n",
              "      const a = document.createElement('a');\n",
              "      a.href = window.URL.createObjectURL(blob);\n",
              "      a.download = filename;\n",
              "      div.appendChild(a);\n",
              "      a.click();\n",
              "      div.remove();\n",
              "    }\n",
              "  "
            ],
            "text/plain": [
              "<IPython.core.display.Javascript object>"
            ]
          },
          "metadata": {},
          "output_type": "display_data"
        },
        {
          "data": {
            "application/javascript": [
              "download(\"download_0f821ab4-fe9b-40f4-ac25-b94a5558709e\", \"diabetes_data.csv\", 35113)"
            ],
            "text/plain": [
              "<IPython.core.display.Javascript object>"
            ]
          },
          "metadata": {},
          "output_type": "display_data"
        }
      ],
      "source": [
        "import pandas as pd\n",
        "import numpy as np\n",
        "\n",
        "# Set random seed for reproducibility\n",
        "np.random.seed(0)\n",
        "\n",
        "# Define the number of rows for the simulated dataset\n",
        "num_rows = 1000\n",
        "\n",
        "# Generate random data for each column based on plausible ranges and categories\n",
        "data = {\n",
        "    \"gender\": np.random.choice([\"Male\", \"Female\"], size=num_rows),\n",
        "    \"age\": np.random.randint(20, 90, size=num_rows),  # age between 20 and 90\n",
        "    \"hypertension\": np.random.choice([0, 1], size=num_rows),  # 0 = No, 1 = Yes\n",
        "    \"heart_disease\": np.random.choice([0, 1], size=num_rows),  # 0 = No, 1 = Yes\n",
        "    \"smoking_history\": np.random.choice([\"never\", \"former\", \"current\", \"unknown\"], size=num_rows),\n",
        "    \"bmi\": np.round(np.random.uniform(15, 40, size=num_rows), 1),  # BMI between 15 and 40\n",
        "    \"HbA1c_level\": np.round(np.random.uniform(4, 10, size=num_rows), 1),  # HbA1c level between 4 and 10\n",
        "    \"blood_glucose_level\": np.random.randint(70, 200, size=num_rows),  # glucose level between 70 and 200\n",
        "    \"diabetes\": np.random.choice([0, 1], size=num_rows)  # 0 = No, 1 = Yes\n",
        "}\n",
        "\n",
        "# Create the DataFrame\n",
        "diabetes_df = pd.DataFrame(data)\n",
        "\n",
        "# Show the first few rows of the generated dataset\n",
        "diabetes_df.head()\n",
        "\n",
        "diabetes_df.to_csv(\"diabetes_data.csv\", index=False)\n",
        "\n",
        "from google.colab import files\n",
        "files.download(\"diabetes_data.csv\")\n",
        "\n",
        "\n"
      ]
    },
    {
      "cell_type": "code",
      "execution_count": null,
      "metadata": {
        "colab": {
          "base_uri": "https://localhost:8080/",
          "height": 17
        },
        "id": "tMPDbPMPxmBG",
        "outputId": "f94d83f7-7c7b-4400-ebc6-fd85da0b3848"
      },
      "outputs": [
        {
          "data": {
            "application/javascript": [
              "\n",
              "    async function download(id, filename, size) {\n",
              "      if (!google.colab.kernel.accessAllowed) {\n",
              "        return;\n",
              "      }\n",
              "      const div = document.createElement('div');\n",
              "      const label = document.createElement('label');\n",
              "      label.textContent = `Downloading \"${filename}\": `;\n",
              "      div.appendChild(label);\n",
              "      const progress = document.createElement('progress');\n",
              "      progress.max = size;\n",
              "      div.appendChild(progress);\n",
              "      document.body.appendChild(div);\n",
              "\n",
              "      const buffers = [];\n",
              "      let downloaded = 0;\n",
              "\n",
              "      const channel = await google.colab.kernel.comms.open(id);\n",
              "      // Send a message to notify the kernel that we're ready.\n",
              "      channel.send({})\n",
              "\n",
              "      for await (const message of channel.messages) {\n",
              "        // Send a message to notify the kernel that we're ready.\n",
              "        channel.send({})\n",
              "        if (message.buffers) {\n",
              "          for (const buffer of message.buffers) {\n",
              "            buffers.push(buffer);\n",
              "            downloaded += buffer.byteLength;\n",
              "            progress.value = downloaded;\n",
              "          }\n",
              "        }\n",
              "      }\n",
              "      const blob = new Blob(buffers, {type: 'application/binary'});\n",
              "      const a = document.createElement('a');\n",
              "      a.href = window.URL.createObjectURL(blob);\n",
              "      a.download = filename;\n",
              "      div.appendChild(a);\n",
              "      a.click();\n",
              "      div.remove();\n",
              "    }\n",
              "  "
            ],
            "text/plain": [
              "<IPython.core.display.Javascript object>"
            ]
          },
          "metadata": {},
          "output_type": "display_data"
        },
        {
          "data": {
            "application/javascript": [
              "download(\"download_f3eb24aa-f25e-413d-85fd-57c6d50b19e2\", \"energy_usage_data.csv\", 33213)"
            ],
            "text/plain": [
              "<IPython.core.display.Javascript object>"
            ]
          },
          "metadata": {},
          "output_type": "display_data"
        }
      ],
      "source": [
        "# Re-importing necessary libraries after state reset\n",
        "import pandas as pd\n",
        "import numpy as np\n",
        "\n",
        "# Set random seed for reproducibility\n",
        "np.random.seed(0)\n",
        "\n",
        "# Define the number of rows for the simulated dataset\n",
        "num_rows = 1000\n",
        "\n",
        "# Generate random data for each column based on plausible ranges and categories\n",
        "data = {\n",
        "    \"time_of_day\": np.random.choice([\"morning\", \"afternoon\", \"evening\", \"night\"], size=num_rows),\n",
        "    \"outside_temperature\": np.round(np.random.uniform(0, 40, size=num_rows), 1),  # Temperature in Celsius\n",
        "    \"appliance_usage_pattern\": np.random.choice([\"low\", \"medium\", \"high\"], size=num_rows),\n",
        "    \"weekday\": np.random.choice([\"Monday\", \"Tuesday\", \"Wednesday\", \"Thursday\", \"Friday\", \"Saturday\", \"Sunday\"], size=num_rows),\n",
        "    \"user_at_home\": np.random.choice([0, 1], size=num_rows),  # 0 = Not at home, 1 = At home\n",
        "    \"energy_usage_kWh\": np.round(np.random.uniform(0.1, 5, size=num_rows), 2)  # Energy usage in kWh\n",
        "}\n",
        "\n",
        "# Create the DataFrame\n",
        "energy_df = pd.DataFrame(data)\n",
        "\n",
        "# Show the first few rows of the generated dataset\n",
        "energy_df.head()\n",
        "\n",
        "energy_df.to_csv(\"energy_usage_data.csv\", index=False)\n",
        "\n",
        "from google.colab import files\n",
        "files.download(\"energy_usage_data.csv\")\n"
      ]
    },
    {
      "cell_type": "code",
      "execution_count": null,
      "metadata": {
        "colab": {
          "base_uri": "https://localhost:8080/",
          "height": 17
        },
        "id": "7DZ59KRS0HSE",
        "outputId": "0dddc519-ca89-4535-927c-e9d7ebf582b7"
      },
      "outputs": [
        {
          "data": {
            "application/javascript": [
              "\n",
              "    async function download(id, filename, size) {\n",
              "      if (!google.colab.kernel.accessAllowed) {\n",
              "        return;\n",
              "      }\n",
              "      const div = document.createElement('div');\n",
              "      const label = document.createElement('label');\n",
              "      label.textContent = `Downloading \"${filename}\": `;\n",
              "      div.appendChild(label);\n",
              "      const progress = document.createElement('progress');\n",
              "      progress.max = size;\n",
              "      div.appendChild(progress);\n",
              "      document.body.appendChild(div);\n",
              "\n",
              "      const buffers = [];\n",
              "      let downloaded = 0;\n",
              "\n",
              "      const channel = await google.colab.kernel.comms.open(id);\n",
              "      // Send a message to notify the kernel that we're ready.\n",
              "      channel.send({})\n",
              "\n",
              "      for await (const message of channel.messages) {\n",
              "        // Send a message to notify the kernel that we're ready.\n",
              "        channel.send({})\n",
              "        if (message.buffers) {\n",
              "          for (const buffer of message.buffers) {\n",
              "            buffers.push(buffer);\n",
              "            downloaded += buffer.byteLength;\n",
              "            progress.value = downloaded;\n",
              "          }\n",
              "        }\n",
              "      }\n",
              "      const blob = new Blob(buffers, {type: 'application/binary'});\n",
              "      const a = document.createElement('a');\n",
              "      a.href = window.URL.createObjectURL(blob);\n",
              "      a.download = filename;\n",
              "      div.appendChild(a);\n",
              "      a.click();\n",
              "      div.remove();\n",
              "    }\n",
              "  "
            ],
            "text/plain": [
              "<IPython.core.display.Javascript object>"
            ]
          },
          "metadata": {},
          "output_type": "display_data"
        },
        {
          "data": {
            "application/javascript": [
              "download(\"download_c523a20a-17aa-44a0-8b47-2727ce9c88d4\", \"energy_usage_data_realistic.csv\", 47737)"
            ],
            "text/plain": [
              "<IPython.core.display.Javascript object>"
            ]
          },
          "metadata": {},
          "output_type": "display_data"
        }
      ],
      "source": [
        "import pandas as pd\n",
        "import numpy as np\n",
        "\n",
        "# Set random seed for reproducibility\n",
        "np.random.seed(42)\n",
        "\n",
        "# Define number of rows for dataset\n",
        "num_rows = 1000\n",
        "\n",
        "# Simulate time of day with natural variation\n",
        "time_of_day = np.random.choice([\"morning\", \"afternoon\", \"evening\", \"night\"], size=num_rows, p=[0.3, 0.25, 0.3, 0.15])\n",
        "\n",
        "# Simulate outside temperature with slight seasonal variations and outliers\n",
        "outside_temperature = np.clip(\n",
        "    np.random.normal(loc=22, scale=5, size=num_rows) + np.random.choice([-10, 0, 10], size=num_rows, p=[0.1, 0.8, 0.1]),\n",
        "    0, 40\n",
        ")\n",
        "\n",
        "# Simulate appliance usage with peak usage in the evening and weekends\n",
        "appliance_usage_pattern = np.random.choice([\"low\", \"medium\", \"high\"], size=num_rows, p=[0.2, 0.5, 0.3])\n",
        "\n",
        "# Day of the week, with more randomness on weekends\n",
        "weekday = np.random.choice([\"Monday\", \"Tuesday\", \"Wednesday\", \"Thursday\", \"Friday\", \"Saturday\", \"Sunday\"],\n",
        "                           size=num_rows, p=[0.15, 0.15, 0.15, 0.15, 0.15, 0.125, 0.125])\n",
        "\n",
        "# User at home, higher likelihood on weekends and evenings\n",
        "user_at_home = (np.random.choice([0, 1], size=num_rows, p=[0.6, 0.4]) |\n",
        "                ((weekday == \"Saturday\") | (weekday == \"Sunday\")) |\n",
        "                (time_of_day == \"evening\")).astype(int)\n",
        "\n",
        "# Generate energy usage with some randomness, higher usage when user is home\n",
        "energy_usage_kWh = (np.random.normal(2, 0.8, size=num_rows) +\n",
        "                    1 * (appliance_usage_pattern == \"high\") +\n",
        "                    0.5 * (user_at_home == 1)).round(2)\n",
        "\n",
        "# Create DataFrame\n",
        "data = {\n",
        "    \"time_of_day\": time_of_day,\n",
        "    \"outside_temperature\": outside_temperature,\n",
        "    \"appliance_usage_pattern\": appliance_usage_pattern,\n",
        "    \"weekday\": weekday,\n",
        "    \"user_at_home\": user_at_home,\n",
        "    \"energy_usage_kWh\": np.clip(energy_usage_kWh, 0.1, 5)  # Clamp energy usage within realistic limits\n",
        "}\n",
        "\n",
        "energy_df = pd.DataFrame(data)\n",
        "\n",
        "# Save the dataset to a CSV file\n",
        "energy_df.to_csv(\"energy_usage_data_realistic.csv\", index=False)\n",
        "\n",
        "# Download the file in Colab\n",
        "from google.colab import files\n",
        "files.download(\"energy_usage_data_realistic.csv\")\n"
      ]
    },
    {
      "cell_type": "code",
      "execution_count": null,
      "metadata": {
        "colab": {
          "base_uri": "https://localhost:8080/"
        },
        "id": "GGM22cbx3TlN",
        "outputId": "28b70cfd-df75-431e-c5af-543e58614681"
      },
      "outputs": [
        {
          "name": "stdout",
          "output_type": "stream",
          "text": [
            "Mounted at /content/drive\n",
            "  time_of_day  outside_temperature appliance_usage_pattern   weekday  \\\n",
            "0     morning                 12.4                  medium    Monday   \n",
            "1       night                 14.9                  medium  Thursday   \n",
            "2   afternoon                 21.0                     low  Saturday   \n",
            "3     morning                 30.0                    high   Tuesday   \n",
            "4       night                 13.3                    high    Friday   \n",
            "\n",
            "   user_at_home  energy_usage_kWh  \n",
            "0             1              0.15  \n",
            "1             1              3.79  \n",
            "2             1              0.13  \n",
            "3             1              4.92  \n",
            "4             0              2.14  \n",
            "<class 'pandas.core.frame.DataFrame'>\n",
            "RangeIndex: 1000 entries, 0 to 999\n",
            "Data columns (total 6 columns):\n",
            " #   Column                   Non-Null Count  Dtype  \n",
            "---  ------                   --------------  -----  \n",
            " 0   time_of_day              1000 non-null   object \n",
            " 1   outside_temperature      1000 non-null   float64\n",
            " 2   appliance_usage_pattern  1000 non-null   object \n",
            " 3   weekday                  1000 non-null   object \n",
            " 4   user_at_home             1000 non-null   int64  \n",
            " 5   energy_usage_kWh         1000 non-null   float64\n",
            "dtypes: float64(2), int64(1), object(3)\n",
            "memory usage: 47.0+ KB\n",
            "None\n"
          ]
        }
      ],
      "source": [
        "import pandas as pd\n",
        "from google.colab import drive\n",
        "\n",
        "# Mount Google Drive\n",
        "drive.mount('/content/drive')\n",
        "\n",
        "\n",
        "\n",
        "# Load the dataset\n",
        "file_path = '/content/drive/MyDrive/Colab Notebooks/MIXED-household energy usage prediction.xlsx'\n",
        "data = pd.read_excel(file_path)\n",
        "\n",
        "# Display the first few rows\n",
        "print(data.head())\n",
        "print(data.info())\n"
      ]
    },
    {
      "cell_type": "code",
      "execution_count": null,
      "metadata": {
        "id": "kDY1PCEn4H4o"
      },
      "outputs": [],
      "source": [
        "from sklearn.model_selection import train_test_split\n",
        "from sklearn.preprocessing import StandardScaler, LabelEncoder\n",
        "\n",
        "# Drop rows with missing values (if any)\n",
        "data = data.dropna()\n",
        "\n",
        "# Encoding categorical columns (if any)\n",
        "categorical_columns = ['time_of_day', 'appliance_usage_pattern', 'weekday']  # Update with your dataset's column names\n",
        "\n",
        "# Apply Label Encoding\n",
        "for col in categorical_columns:\n",
        "    le = LabelEncoder()\n",
        "    data[col] = le.fit_transform(data[col])\n",
        "\n",
        "# Splitting features and target variable\n",
        "X = data.drop('energy_usage_kWh', axis=1)  # Features\n",
        "y = data['energy_usage_kWh']  # Target\n",
        "\n",
        "# Split data into training and testing sets\n",
        "X_train, X_test, y_train, y_test = train_test_split(X, y, test_size=0.2, random_state=42)\n",
        "\n",
        "# Standardize numerical columns\n",
        "scaler = StandardScaler()\n",
        "X_train = scaler.fit_transform(X_train)\n",
        "X_test = scaler.transform(X_test)\n"
      ]
    },
    {
      "cell_type": "code",
      "execution_count": null,
      "metadata": {
        "colab": {
          "base_uri": "https://localhost:8080/"
        },
        "id": "NjbuASie4Rgz",
        "outputId": "f96dbc25-af76-423e-a23e-a9439417c62b"
      },
      "outputs": [
        {
          "name": "stdout",
          "output_type": "stream",
          "text": [
            "Mean Squared Error: 1.6765653842888892\n"
          ]
        }
      ],
      "source": [
        "from sklearn.ensemble import RandomForestRegressor\n",
        "from sklearn.metrics import mean_squared_error\n",
        "\n",
        "# Initialize and train the model\n",
        "model = RandomForestRegressor(n_estimators=100, random_state=42)\n",
        "model.fit(X_train, y_train)\n",
        "\n",
        "# Evaluate on the test set\n",
        "y_pred = model.predict(X_test)\n",
        "mse = mean_squared_error(y_test, y_pred)\n",
        "print(f\"Mean Squared Error: {mse}\")\n"
      ]
    },
    {
      "cell_type": "code",
      "execution_count": null,
      "metadata": {
        "colab": {
          "base_uri": "https://localhost:8080/"
        },
        "id": "a0rBDMAK4XFe",
        "outputId": "4da13912-ac6e-4f55-822f-5d69eeb5ada9"
      },
      "outputs": [
        {
          "data": {
            "text/plain": [
              "['scaler.pkl']"
            ]
          },
          "execution_count": 4,
          "metadata": {},
          "output_type": "execute_result"
        }
      ],
      "source": [
        "import joblib\n",
        "\n",
        "# Save the model and scaler\n",
        "joblib.dump(model, \"energy_usage_model.pkl\")\n",
        "joblib.dump(scaler, \"scaler.pkl\")\n"
      ]
    },
    {
      "cell_type": "code",
      "execution_count": null,
      "metadata": {
        "colab": {
          "base_uri": "https://localhost:8080/"
        },
        "id": "bvSzmAGU-ZoP",
        "outputId": "398f3f6f-7fab-471f-fd65-f4455e1e62d7"
      },
      "outputs": [
        {
          "name": "stdout",
          "output_type": "stream",
          "text": [
            "Requirement already satisfied: Flask in /usr/local/lib/python3.10/dist-packages (2.2.5)\n",
            "Collecting pyngrok\n",
            "  Downloading pyngrok-7.2.1-py3-none-any.whl.metadata (8.3 kB)\n",
            "Requirement already satisfied: joblib in /usr/local/lib/python3.10/dist-packages (1.4.2)\n",
            "Requirement already satisfied: Werkzeug>=2.2.2 in /usr/local/lib/python3.10/dist-packages (from Flask) (3.0.6)\n",
            "Requirement already satisfied: Jinja2>=3.0 in /usr/local/lib/python3.10/dist-packages (from Flask) (3.1.4)\n",
            "Requirement already satisfied: itsdangerous>=2.0 in /usr/local/lib/python3.10/dist-packages (from Flask) (2.2.0)\n",
            "Requirement already satisfied: click>=8.0 in /usr/local/lib/python3.10/dist-packages (from Flask) (8.1.7)\n",
            "Requirement already satisfied: PyYAML>=5.1 in /usr/local/lib/python3.10/dist-packages (from pyngrok) (6.0.2)\n",
            "Requirement already satisfied: MarkupSafe>=2.0 in /usr/local/lib/python3.10/dist-packages (from Jinja2>=3.0->Flask) (3.0.2)\n",
            "Downloading pyngrok-7.2.1-py3-none-any.whl (22 kB)\n",
            "Installing collected packages: pyngrok\n",
            "Successfully installed pyngrok-7.2.1\n"
          ]
        }
      ],
      "source": [
        "!pip install Flask pyngrok joblib\n"
      ]
    },
    {
      "cell_type": "code",
      "execution_count": null,
      "metadata": {
        "colab": {
          "base_uri": "https://localhost:8080/",
          "height": 17
        },
        "id": "8GkF6Es7-5Su",
        "outputId": "55e938bc-31c5-469b-d8ed-12a114db2982"
      },
      "outputs": [
        {
          "data": {
            "application/javascript": [
              "\n",
              "    async function download(id, filename, size) {\n",
              "      if (!google.colab.kernel.accessAllowed) {\n",
              "        return;\n",
              "      }\n",
              "      const div = document.createElement('div');\n",
              "      const label = document.createElement('label');\n",
              "      label.textContent = `Downloading \"${filename}\": `;\n",
              "      div.appendChild(label);\n",
              "      const progress = document.createElement('progress');\n",
              "      progress.max = size;\n",
              "      div.appendChild(progress);\n",
              "      document.body.appendChild(div);\n",
              "\n",
              "      const buffers = [];\n",
              "      let downloaded = 0;\n",
              "\n",
              "      const channel = await google.colab.kernel.comms.open(id);\n",
              "      // Send a message to notify the kernel that we're ready.\n",
              "      channel.send({})\n",
              "\n",
              "      for await (const message of channel.messages) {\n",
              "        // Send a message to notify the kernel that we're ready.\n",
              "        channel.send({})\n",
              "        if (message.buffers) {\n",
              "          for (const buffer of message.buffers) {\n",
              "            buffers.push(buffer);\n",
              "            downloaded += buffer.byteLength;\n",
              "            progress.value = downloaded;\n",
              "          }\n",
              "        }\n",
              "      }\n",
              "      const blob = new Blob(buffers, {type: 'application/binary'});\n",
              "      const a = document.createElement('a');\n",
              "      a.href = window.URL.createObjectURL(blob);\n",
              "      a.download = filename;\n",
              "      div.appendChild(a);\n",
              "      a.click();\n",
              "      div.remove();\n",
              "    }\n",
              "  "
            ],
            "text/plain": [
              "<IPython.core.display.Javascript object>"
            ]
          },
          "metadata": {},
          "output_type": "display_data"
        },
        {
          "data": {
            "application/javascript": [
              "download(\"download_1d957c3f-3fc1-4685-b58d-945964422bd0\", \"energy_usage_model.pkl\", 752)"
            ],
            "text/plain": [
              "<IPython.core.display.Javascript object>"
            ]
          },
          "metadata": {},
          "output_type": "display_data"
        },
        {
          "data": {
            "application/javascript": [
              "\n",
              "    async function download(id, filename, size) {\n",
              "      if (!google.colab.kernel.accessAllowed) {\n",
              "        return;\n",
              "      }\n",
              "      const div = document.createElement('div');\n",
              "      const label = document.createElement('label');\n",
              "      label.textContent = `Downloading \"${filename}\": `;\n",
              "      div.appendChild(label);\n",
              "      const progress = document.createElement('progress');\n",
              "      progress.max = size;\n",
              "      div.appendChild(progress);\n",
              "      document.body.appendChild(div);\n",
              "\n",
              "      const buffers = [];\n",
              "      let downloaded = 0;\n",
              "\n",
              "      const channel = await google.colab.kernel.comms.open(id);\n",
              "      // Send a message to notify the kernel that we're ready.\n",
              "      channel.send({})\n",
              "\n",
              "      for await (const message of channel.messages) {\n",
              "        // Send a message to notify the kernel that we're ready.\n",
              "        channel.send({})\n",
              "        if (message.buffers) {\n",
              "          for (const buffer of message.buffers) {\n",
              "            buffers.push(buffer);\n",
              "            downloaded += buffer.byteLength;\n",
              "            progress.value = downloaded;\n",
              "          }\n",
              "        }\n",
              "      }\n",
              "      const blob = new Blob(buffers, {type: 'application/binary'});\n",
              "      const a = document.createElement('a');\n",
              "      a.href = window.URL.createObjectURL(blob);\n",
              "      a.download = filename;\n",
              "      div.appendChild(a);\n",
              "      a.click();\n",
              "      div.remove();\n",
              "    }\n",
              "  "
            ],
            "text/plain": [
              "<IPython.core.display.Javascript object>"
            ]
          },
          "metadata": {},
          "output_type": "display_data"
        },
        {
          "data": {
            "application/javascript": [
              "download(\"download_1f4548a8-e9b1-4f76-8413-ec5c7762ff7a\", \"scaler.pkl\", 1535)"
            ],
            "text/plain": [
              "<IPython.core.display.Javascript object>"
            ]
          },
          "metadata": {},
          "output_type": "display_data"
        }
      ],
      "source": [
        "import pandas as pd\n",
        "from sklearn.model_selection import train_test_split\n",
        "from sklearn.linear_model import LinearRegression\n",
        "from sklearn.preprocessing import StandardScaler\n",
        "import joblib\n",
        "\n",
        "\n",
        "# Load your dataset\n",
        "file_path = '/content/drive/MyDrive/Colab Notebooks/MIXED-household energy usage prediction.xlsx'  # Path to your uploaded dataset\n",
        "data = pd.read_excel(file_path)\n",
        "\n",
        "# Preprocessing: Assume you have features and the target column 'energy_usage_kWh'\n",
        "X = data.drop(columns=['energy_usage_kWh'])  # Features\n",
        "y = data['energy_usage_kWh']  # Target\n",
        "\n",
        "# Convert categorical features to dummy variables\n",
        "X = pd.get_dummies(X, drop_first=True)\n",
        "\n",
        "# Split into train and test sets\n",
        "X_train, X_test, y_train, y_test = train_test_split(X, y, test_size=0.2, random_state=0)\n",
        "\n",
        "# Standardize features\n",
        "scaler = StandardScaler()\n",
        "X_train_scaled = scaler.fit_transform(X_train)\n",
        "X_test_scaled = scaler.transform(X_test)\n",
        "\n",
        "# Train the model\n",
        "model = LinearRegression()\n",
        "model.fit(X_train_scaled, y_train)\n",
        "\n",
        "# Save the model and scaler\n",
        "joblib.dump(model, \"energy_usage_model.pkl\")\n",
        "joblib.dump(scaler, \"scaler.pkl\")\n",
        "\n",
        "from google.colab import files\n",
        "files.download(\"energy_usage_model.pkl\")\n",
        "files.download(\"scaler.pkl\")\n",
        "\n",
        "import joblib\n",
        "\n",
        "# Load the model and scaler\n",
        "model = joblib.load(\"energy_usage_model.pkl\")\n",
        "scaler = joblib.load(\"scaler.pkl\")\n"
      ]
    },
    {
      "cell_type": "code",
      "execution_count": null,
      "metadata": {
        "colab": {
          "base_uri": "https://localhost:8080/"
        },
        "id": "ziDGWQvbAHAh",
        "outputId": "4b132de0-20a9-4a78-e9f0-9855d571d1c2"
      },
      "outputs": [
        {
          "name": "stdout",
          "output_type": "stream",
          "text": [
            "Authtoken saved to configuration file: /root/.config/ngrok/ngrok.yml\n"
          ]
        }
      ],
      "source": [
        "!ngrok authtoken 2oaU8X137S4bnIMcCf1aL7GfqPV_3JEYKvAWrH4i48cbSWGCr\n"
      ]
    },
    {
      "cell_type": "code",
      "execution_count": null,
      "metadata": {
        "id": "xvTz1XdFkz6s"
      },
      "outputs": [],
      "source": [
        "pip install gradio"
      ]
    },
    {
      "cell_type": "code",
      "execution_count": null,
      "metadata": {
        "colab": {
          "background_save": true
        },
        "id": "4KVvFaZDDG5i",
        "outputId": "124c3d0b-c727-4c15-8f12-bccbd7af8d64"
      },
      "outputs": [
        {
          "name": "stdout",
          "output_type": "stream",
          "text": [
            "Running Gradio in a Colab notebook requires sharing enabled. Automatically setting `share=True` (you can turn this off by setting `share=False` in `launch()` explicitly).\n",
            "\n",
            "Colab notebook detected. To show errors in colab notebook, set debug=True in launch()\n",
            "* Running on public URL: https://b6df96730c0d85841f.gradio.live\n",
            "\n",
            "This share link expires in 72 hours. For free permanent hosting and GPU upgrades, run `gradio deploy` from the terminal in the working directory to deploy to Hugging Face Spaces (https://huggingface.co/spaces)\n"
          ]
        },
        {
          "data": {
            "text/html": [
              "<div><iframe src=\"https://b6df96730c0d85841f.gradio.live\" width=\"100%\" height=\"500\" allow=\"autoplay; camera; microphone; clipboard-read; clipboard-write;\" frameborder=\"0\" allowfullscreen></iframe></div>"
            ],
            "text/plain": [
              "<IPython.core.display.HTML object>"
            ]
          },
          "metadata": {},
          "output_type": "display_data"
        },
        {
          "data": {
            "text/plain": []
          },
          "execution_count": 1,
          "metadata": {},
          "output_type": "execute_result"
        }
      ],
      "source": [
        "# Import necessary libraries\n",
        "import gradio as gr\n",
        "import joblib\n",
        "import numpy as np\n",
        "\n",
        "# Load the trained model and scaler\n",
        "model = joblib.load('/content/drive/MyDrive/Colab Notebooks/energy_usage_model.pkl')\n",
        "scaler = joblib.load('/content/drive/MyDrive/Colab Notebooks/scaler.pkl')\n",
        "\n",
        "# Function to make a prediction based on inputs\n",
        "def predict_energy_usage(time_of_day, outside_temperature, appliance_usage_pattern, weekday, user_at_home):\n",
        "    try:\n",
        "        # Encode categorical inputs to numeric values\n",
        "        time_of_day_map = {\"morning\": 0, \"afternoon\": 1, \"evening\": 2, \"night\": 3}\n",
        "        appliance_usage_map = {\"low\": 0, \"medium\": 1, \"high\": 2}\n",
        "        weekday_map = {\"Monday\": 0, \"Tuesday\": 1, \"Wednesday\": 2, \"Thursday\": 3, \"Friday\": 4, \"Saturday\": 5, \"Sunday\": 6}\n",
        "\n",
        "        # Apply encoding\n",
        "        time_of_day_encoded = time_of_day_map.get(time_of_day.lower(), 0)\n",
        "        appliance_usage_encoded = appliance_usage_map.get(appliance_usage_pattern.lower(), 0)\n",
        "        weekday_encoded = weekday_map.get(weekday.capitalize(), 0)\n",
        "\n",
        "        # Ensure user_at_home is an integer\n",
        "        user_at_home = int(user_at_home)\n",
        "\n",
        "        # Prepare features for prediction\n",
        "        features = np.array([time_of_day_encoded, outside_temperature, appliance_usage_encoded, weekday_encoded, user_at_home]).reshape(1, -1)\n",
        "\n",
        "        # Scale features and make prediction\n",
        "        features = scaler.transform(features)\n",
        "        prediction = model.predict(features)\n",
        "\n",
        "        # Return the prediction as a formatted string\n",
        "        return f\"Predicted Energy Usage: {prediction[0]:.2f} kWh\"\n",
        "\n",
        "    except Exception as e:\n",
        "        print(\"Error occurred:\", e)\n",
        "        return \"An error occurred during prediction.\"\n",
        "\n",
        "# Set up Gradio interface\n",
        "with gr.Blocks() as demo:\n",
        "    gr.Markdown(\"# Energy Usage Prediction\")\n",
        "    gr.Markdown(\"Fill in the details below to predict household energy usage.\")\n",
        "\n",
        "    with gr.Row():\n",
        "        time_of_day = gr.Radio([\"Morning\", \"Afternoon\", \"Evening\", \"Night\"], label=\"Time of Day\")\n",
        "        outside_temperature = gr.Number(label=\"Outside Temperature (°C)\")\n",
        "\n",
        "    with gr.Row():\n",
        "        appliance_usage_pattern = gr.Radio([\"Low\", \"Medium\", \"High\"], label=\"Appliance Usage Pattern\")\n",
        "        weekday = gr.Dropdown([\"Monday\", \"Tuesday\", \"Wednesday\", \"Thursday\", \"Friday\", \"Saturday\", \"Sunday\"], label=\"Day of Week\")\n",
        "        user_at_home = gr.Radio([\"0\", \"1\"], label=\"User at Home\", info=\"Enter 1 if user is at home, 0 if not\")\n",
        "\n",
        "    submit = gr.Button(\"Predict\")\n",
        "    prediction_output = gr.Textbox(label=\"Prediction Output\")\n",
        "\n",
        "    submit.click(predict_energy_usage, [time_of_day, outside_temperature, appliance_usage_pattern, weekday, user_at_home], prediction_output)\n",
        "\n",
        "# Launch Gradio app\n",
        "demo.launch()\n"
      ]
    }
  ],
  "metadata": {
    "colab": {
      "provenance": []
    },
    "kernelspec": {
      "display_name": "Python 3",
      "name": "python3"
    },
    "language_info": {
      "name": "python"
    }
  },
  "nbformat": 4,
  "nbformat_minor": 0
}